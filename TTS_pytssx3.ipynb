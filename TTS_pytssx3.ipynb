{
  "nbformat": 4,
  "nbformat_minor": 0,
  "metadata": {
    "colab": {
      "provenance": []
    },
    "kernelspec": {
      "name": "python3",
      "display_name": "Python 3"
    },
    "language_info": {
      "name": "python"
    }
  },
  "cells": [
    {
      "cell_type": "code",
      "source": [
        "!pip install pyttsx3\n",
        "!pip install pydub\n",
        "!sudo apt install espeak"
      ],
      "metadata": {
        "id": "lbjRBEwT4KY1"
      },
      "execution_count": null,
      "outputs": []
    },
    {
      "cell_type": "code",
      "execution_count": null,
      "metadata": {
        "id": "QbI_s1fN4AKL"
      },
      "outputs": [],
      "source": [
        "import pyttsx3\n",
        "from pydub import AudioSegment\n",
        "import io\n",
        "import time"
      ]
    },
    {
      "cell_type": "code",
      "source": [
        "import pyttsx3\n",
        "import threading\n",
        "\n",
        "class AudioGenerator:\n",
        "    def __init__(self):\n",
        "        self.engine = pyttsx3.init(\"espeak\")  # Initialize pyttsx3 engine with the \"espeak\" driver\n",
        "\n",
        "        self.lock = threading.Lock()  # Create a lock to control thread synchronization\n",
        "        self.finished = False  # Flag to indicate if speech synthesis has finished\n",
        "\n",
        "        # Set the event handler for the end of utterance\n",
        "        self.engine.connect('finished-utterance', self._on_end)\n",
        "\n",
        "        self.engine.setProperty('rate', self.engine.getProperty('rate')-20)\n",
        "        self.engine.setProperty('voice', self.engine.getProperty('voices')[11].id)\n",
        "\n",
        "    def _on_end(self, name, completed):\n",
        "        self.finished = True  # Set the finished flag to indicate speech synthesis is complete\n",
        "        self.lock.release()  # Release the lock to allow the main thread to proceed\n",
        "\n",
        "    def generate_audio_file(self, text, filename):\n",
        "        self.lock.acquire()  # Acquire the lock to prevent the main thread from proceeding\n",
        "        self.finished = False  # Reset the finished flag for the new synthesis\n",
        "        self.engine.save_to_file(text, filename)  # Save the speech to the specified file\n",
        "        self.engine.startLoop(False)  # Start the engine loop\n",
        "        self.engine.iterate()  # Run the engine loop iteration\n",
        "        self.engine.endLoop()  # End the engine loop\n",
        "\n",
        "    def get_audio(self,filename):\n",
        "      return AudioSegment.from_file(filename, format=\"mp3\") # returns an audo object which can be played directly\n",
        "\n",
        "# Example usage\n",
        "text = \"Hi. How are you? what are you doing?\"\n",
        "file_path = \"test.mp3\"\n",
        "\n",
        "audio_generator = AudioGenerator()\n",
        "x = audio_generator.generate_audio_file(text, file_path)\n",
        "audio_generator.lock.acquire()  # Wait for the synthesis to complete\n",
        "audio_generator.lock.release()  # Release the lock\n",
        "audio_generator.get_audio(file_path)"
      ],
      "metadata": {
        "id": "SZ4kk3AzhX-n",
        "colab": {
          "base_uri": "https://localhost:8080/",
          "height": 52
        },
        "outputId": "8995b203-b774-4136-e87d-b0a3dbe4e520"
      },
      "execution_count": null,
      "outputs": [
        {
          "output_type": "execute_result",
          "data": {
            "text/plain": [
              "<pydub.audio_segment.AudioSegment at 0x7f8ce83e7af0>"
            ],
            "text/html": [
              "\n",
              "                    <audio controls>\n",
              "                        <source src=\"data:audio/mpeg;base64,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\" type=\"audio/mpeg\"/>\n",
              "                        Your browser does not support the audio element.\n",
              "                    </audio>\n",
              "                  "
            ]
          },
          "metadata": {},
          "execution_count": 8
        }
      ]
    },
    {
      "cell_type": "code",
      "source": [],
      "metadata": {
        "id": "HpnQhoulkWmI"
      },
      "execution_count": null,
      "outputs": []
    },
    {
      "cell_type": "code",
      "source": [],
      "metadata": {
        "id": "8ZAHr3TskWZS"
      },
      "execution_count": null,
      "outputs": []
    }
  ]
}